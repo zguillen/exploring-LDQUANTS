{
 "cells": [
  {
   "cell_type": "markdown",
   "id": "21ba567c-6a0a-4801-a761-69002097b298",
   "metadata": {},
   "source": [
    "### This is the best notebook available"
   ]
  },
  {
   "cell_type": "markdown",
   "id": "a72ee1fe-b32c-4657-90dc-68f3eabaa18c",
   "metadata": {},
   "source": [
    "* fits in a three-ring binder\n",
    "* has grids instead of boring lines\n",
    "* is made out of paper"
   ]
  },
  {
   "cell_type": "code",
   "execution_count": null,
   "id": "3829dcf6-6437-4a86-9690-630c2e219935",
   "metadata": {},
   "outputs": [],
   "source": []
  }
 ],
 "metadata": {
  "kernelspec": {
   "display_name": "Python 3 (ipykernel)",
   "language": "python",
   "name": "python3"
  },
  "language_info": {
   "codemirror_mode": {
    "name": "ipython",
    "version": 3
   },
   "file_extension": ".py",
   "mimetype": "text/x-python",
   "name": "python",
   "nbconvert_exporter": "python",
   "pygments_lexer": "ipython3",
   "version": "3.11.8"
  }
 },
 "nbformat": 4,
 "nbformat_minor": 5
}
