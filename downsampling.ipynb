{
 "cells": [
  {
   "cell_type": "markdown",
   "metadata": {},
   "source": [
    "IMPORTS"
   ]
  },
  {
   "cell_type": "code",
   "execution_count": null,
   "metadata": {},
   "outputs": [],
   "source": [
    "# Install dependencies: \n",
    "!pip install -r requirements.txt > /dev/null"
   ]
  },
  {
   "cell_type": "code",
   "execution_count": 23,
   "metadata": {},
   "outputs": [],
   "source": [
    "from datetime import datetime\n",
    "import glob\n",
    "import gzip\n",
    "import os\n",
    "import re\n",
    "import shutil\n",
    "from typing import List, Optional\n",
    "\n",
    "import act\n",
    "import ipywidgets as widgets\n",
    "import matplotlib.pyplot as plt\n",
    "import numpy as np\n",
    "import pandas as pd\n",
    "import xarray as xr"
   ]
  },
  {
   "cell_type": "markdown",
   "metadata": {},
   "source": [
    "DEFINE LOCATION, DATE RANGE, AND VARIABLES"
   ]
  },
  {
   "cell_type": "code",
   "execution_count": null,
   "metadata": {},
   "outputs": [
    {
     "name": "stdout",
     "output_type": "stream",
     "text": [
      "Subsampling ldquants data from sgp C1 between 20231001 and 20231101\n"
     ]
    }
   ],
   "source": [
    "HOME = os.environ.get(\"HOME\")\n",
    "DATA_DIR = os.environ.get(\"DATA_DIR\")\n",
    "SITE = \"sgp\"\n",
    "FACILITY = \"C1\"\n",
    "BEGIN_DATE = \"20231001\"  # Use ARM date format: YYYYMMDD\n",
    "END_DATE = \"20231101\"    # End date is inclusive!\n",
    "\n",
    "# Variables are optional. If not specified, all variables will be downloaded.\n",
    "VARIABLES: Optional[List[str]] = None\n",
    "\n",
    "print(f\"Subsampling ldquants data from {SITE} {FACILITY} between {BEGIN_DATE} and {END_DATE}\")"
   ]
  },
  {
   "cell_type": "markdown",
   "metadata": {},
   "source": [
    "LOAD DATA"
   ]
  },
  {
   "cell_type": "code",
   "execution_count": 7,
   "metadata": {},
   "outputs": [
    {
     "name": "stderr",
     "output_type": "stream",
     "text": [
      "/tmp/ipykernel_317052/3626851321.py:22: DeprecationWarning: act.io.armfiles.read_netcdf will be replaced in version 2.0.0 by act.io.arm.read_arm_netcdf()\n",
      "  ds = act.io.armfiles.read_netcdf(files_for_dates)\n"
     ]
    }
   ],
   "source": [
    "ARM_FILENAME_PATTERN = re.compile(\n",
    "    r\"^([a-z]{3})(.+)([A-Z]\\d+)\\.([a-z0]\\d)\\.(\\d{8}\\.\\d{6})\\.(.+)$\"\n",
    ")\n",
    "\n",
    "# Compile list of files\n",
    "date_start = datetime.strptime(BEGIN_DATE, '%Y%m%d')\n",
    "date_end = datetime.strptime(END_DATE, '%Y%m%d')\n",
    "dir_path = os.path.join(DATA_DIR, SITE, f\"{SITE}ldquants{FACILITY}.c1\" )\n",
    "\n",
    "all_files = os.listdir(dir_path)\n",
    "files_for_dates = []\n",
    "for filename in all_files:\n",
    "    match = ARM_FILENAME_PATTERN.match(filename)\n",
    "    if match:\n",
    "        file_time = match.groups()[4]\n",
    "        file_date = datetime.strptime(file_time, \"%Y%m%d.%H%M%S\")\n",
    "        if file_date >= date_start and file_date < date_end:\n",
    "            files_for_dates.append(filename)\n",
    "        \n",
    "# Read the file data into an xarray Dataset\n",
    "files_for_dates = [os.path.join(dir_path, f) for f in files_for_dates]\n",
    "ds = act.io.armfiles.read_netcdf(files_for_dates)\n",
    "ds.clean.cleanup()"
   ]
  },
  {
   "cell_type": "markdown",
   "metadata": {},
   "source": [
    "EXPORT SUBSAMPLED DATA"
   ]
  },
  {
   "cell_type": "code",
   "execution_count": 24,
   "metadata": {},
   "outputs": [],
   "source": [
    "# Filter out variables if needed\n",
    "if VARIABLES:\n",
    "    for var_name in ds.data_vars:\n",
    "        if var_name not in VARIABLES:\n",
    "                del ds[var_name]\n",
    "\n",
    "# Store the subsampled data to a new file\n",
    "output_filename = f\"{SITE}ldquants{FACILITY}.c1.{BEGIN_DATE}.{END_DATE}.nc\"\n",
    "output_nc = os.path.join(HOME, output_filename)\n",
    "ds.write.write_netcdf(path=output_nc, FillValue=-9999)"
   ]
  },
  {
   "cell_type": "code",
   "execution_count": 26,
   "metadata": {},
   "outputs": [],
   "source": [
    "# Zip the file for transport\n",
    "output_zip = os.path.join(HOME, f\"{output_filename}.gz\")\n",
    "with open(output_nc, 'rb') as f_in:\n",
    "    with gzip.open(output_zip, 'wb') as f_out:\n",
    "        shutil.copyfileobj(f_in, f_out)\n",
    "\n",
    "# remove the unzipped file\n",
    "os.remove(output_nc)"
   ]
  }
 ],
 "metadata": {
  "kernelspec": {
   "display_name": "base",
   "language": "python",
   "name": "python3"
  },
  "language_info": {
   "codemirror_mode": {
    "name": "ipython",
    "version": 3
   },
   "file_extension": ".py",
   "mimetype": "text/x-python",
   "name": "python",
   "nbconvert_exporter": "python",
   "pygments_lexer": "ipython3",
   "version": "3.9.13"
  }
 },
 "nbformat": 4,
 "nbformat_minor": 2
}
