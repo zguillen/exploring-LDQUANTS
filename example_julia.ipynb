{
 "cells": [
  {
   "cell_type": "code",
   "execution_count": null,
   "id": "97eef74a",
   "metadata": {},
   "outputs": [],
   "source": [
    "# Install dependencies: \n",
    "import Pkg; Pkg.add([\"Plots\", \"ImageFeatures\"])"
   ]
  },
  {
   "cell_type": "code",
   "execution_count": null,
   "id": "8042f74b",
   "metadata": {},
   "outputs": [],
   "source": [
    "# List contents of dataset's data dir\n",
    ";ls -alh $DATA_DIR"
   ]
  }
 ],
 "metadata": {
  "language_info": {
   "name": "python"
  }
 },
 "nbformat": 4,
 "nbformat_minor": 5
}
