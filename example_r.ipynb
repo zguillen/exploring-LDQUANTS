{
 "cells": [
  {
   "cell_type": "code",
   "execution_count": null,
   "id": "97eef74a",
   "metadata": {},
   "outputs": [],
   "source": [
    "# Install dependencies: \n",
    "install.packages(\"ggplot2\")"
   ]
  },
  {
   "cell_type": "code",
   "execution_count": null,
   "id": "7affa237-02bf-4e9a-9e6a-a2f901d11678",
   "metadata": {},
   "outputs": [],
   "source": [
    "22nd time: test new logic oauth pr but with prev token"
   ]
  },
  {
   "cell_type": "code",
   "execution_count": null,
   "id": "8042f74b",
   "metadata": {},
   "outputs": [],
   "source": [
    "# List contents of dataset's data dir\n",
    "system(\"ls -alh $DATA_DIR\")"
   ]
  }
 ],
 "metadata": {
  "kernelspec": {
   "display_name": "Python 3 (ipykernel)",
   "language": "python",
   "name": "python3"
  },
  "language_info": {
   "codemirror_mode": {
    "name": "ipython",
    "version": 3
   },
   "file_extension": ".py",
   "mimetype": "text/x-python",
   "name": "python",
   "nbconvert_exporter": "python",
   "pygments_lexer": "ipython3",
   "version": "3.11.8"
  }
 },
 "nbformat": 4,
 "nbformat_minor": 5
}
